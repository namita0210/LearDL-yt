{
  "nbformat": 4,
  "nbformat_minor": 0,
  "metadata": {
    "colab": {
      "provenance": [],
      "authorship_tag": "ABX9TyPRDiBTUUv8ZL4xMRZSAdPE",
      "include_colab_link": true
    },
    "kernelspec": {
      "name": "python3",
      "display_name": "Python 3"
    },
    "language_info": {
      "name": "python"
    }
  },
  "cells": [
    {
      "cell_type": "markdown",
      "metadata": {
        "id": "view-in-github",
        "colab_type": "text"
      },
      "source": [
        "<a href=\"https://colab.research.google.com/github/namita0210/LearnDL-yt/blob/main/1_cnn_hands_on.ipynb\" target=\"_parent\"><img src=\"https://colab.research.google.com/assets/colab-badge.svg\" alt=\"Open In Colab\"/></a>"
      ]
    },
    {
      "cell_type": "code",
      "execution_count": 1,
      "metadata": {
        "id": "QdUGG0M_UjR8"
      },
      "outputs": [],
      "source": [
        "import tensorflow as tf\n",
        "from tensorflow.keras import layers,models"
      ]
    },
    {
      "cell_type": "code",
      "source": [
        "input_image=(1,28,28,1)"
      ],
      "metadata": {
        "id": "WH48zt4EUtGx"
      },
      "execution_count": 2,
      "outputs": []
    },
    {
      "cell_type": "code",
      "source": [
        "x=tf.random.normal(input_image)"
      ],
      "metadata": {
        "id": "oq5dhxJaU3Og"
      },
      "execution_count": 3,
      "outputs": []
    },
    {
      "cell_type": "code",
      "source": [
        "y = layers.Conv2D(filters=1,kernel_size=3,input_shape=input_image[1:])(x)"
      ],
      "metadata": {
        "id": "Tb7vOzZRU9cO"
      },
      "execution_count": 4,
      "outputs": []
    },
    {
      "cell_type": "code",
      "source": [
        "print(y.shape)"
      ],
      "metadata": {
        "colab": {
          "base_uri": "https://localhost:8080/"
        },
        "id": "Ztegw6XAVdZ-",
        "outputId": "4ff48a4b-1368-4fe0-ddc5-a27a76a4d30b"
      },
      "execution_count": 5,
      "outputs": [
        {
          "output_type": "stream",
          "name": "stdout",
          "text": [
            "(1, 26, 26, 1)\n"
          ]
        }
      ]
    },
    {
      "cell_type": "markdown",
      "source": [
        "Using a Conv2D layer"
      ],
      "metadata": {
        "id": "e7juaS8hS86c"
      }
    },
    {
      "cell_type": "code",
      "source": [
        "# Same code with padding\n",
        "input_image=(1,28,28,1)\n",
        "x=tf.random.normal(input_image)\n",
        "y=layers.Conv2D(filters=1,kernel_size=(3,3),padding=\"same\",input_shape=input_image[1:])(x)\n",
        "print(y.shape)"
      ],
      "metadata": {
        "colab": {
          "base_uri": "https://localhost:8080/"
        },
        "id": "-FFoioHkVefZ",
        "outputId": "de8d0f31-df39-4b20-80ae-8d9bcc4eaf71"
      },
      "execution_count": 6,
      "outputs": [
        {
          "output_type": "stream",
          "name": "stdout",
          "text": [
            "(1, 28, 28, 1)\n"
          ]
        }
      ]
    },
    {
      "cell_type": "markdown",
      "source": [
        "Mathematical Operation behind the scenes in a convolutional neural network"
      ],
      "metadata": {
        "id": "LzWgcTDyL-16"
      }
    },
    {
      "cell_type": "code",
      "source": [
        "#declare input image dimensions\n",
        "input_image = (1,5,5,1)\n",
        "# 1 --> no. of images ( batch size)\n",
        "# 5,5 --> dimensions of the image\n",
        "# 1--> grayscale image (only one channel)"
      ],
      "metadata": {
        "id": "bJSErz94WBrn"
      },
      "execution_count": 9,
      "outputs": []
    },
    {
      "cell_type": "code",
      "source": [
        "#create input image as a matrix\n",
        "x = tf.random.normal(input_image)\n",
        "print(x.shape)"
      ],
      "metadata": {
        "colab": {
          "base_uri": "https://localhost:8080/"
        },
        "id": "HaP06jWDMeLJ",
        "outputId": "f9d9b332-8cb1-402b-9939-f70e9530b9c6"
      },
      "execution_count": 14,
      "outputs": [
        {
          "output_type": "stream",
          "name": "stdout",
          "text": [
            "(1, 5, 5, 1)\n"
          ]
        }
      ]
    },
    {
      "cell_type": "code",
      "source": [
        "#create conv layer\n",
        "li = layers.Conv2D(\n",
        "    filters=1,\n",
        "    kernel_size=(3,3),\n",
        "    input_shape = (input_image[1:])\n",
        ")"
      ],
      "metadata": {
        "id": "wmx0ej4BMwpr"
      },
      "execution_count": 19,
      "outputs": []
    },
    {
      "cell_type": "code",
      "source": [
        "#Mathematical proof of behind the scenes inside the Convolutional Layer\n",
        "li.get_weights()\n",
        "# These are the weights initialized for the kernel which is of 3x3 dimension"
      ],
      "metadata": {
        "colab": {
          "base_uri": "https://localhost:8080/"
        },
        "id": "_pTNPlgANtxk",
        "outputId": "8322ae8b-cbbe-46cf-a215-285939adb187"
      },
      "execution_count": 22,
      "outputs": [
        {
          "output_type": "execute_result",
          "data": {
            "text/plain": [
              "[array([[[[-0.497579  ]],\n",
              " \n",
              "         [[-0.18928835]],\n",
              " \n",
              "         [[ 0.15820026]]],\n",
              " \n",
              " \n",
              "        [[[-0.566172  ]],\n",
              " \n",
              "         [[-0.4245202 ]],\n",
              " \n",
              "         [[-0.5146223 ]]],\n",
              " \n",
              " \n",
              "        [[[-0.31765836]],\n",
              " \n",
              "         [[-0.04379576]],\n",
              " \n",
              "         [[ 0.4385277 ]]]], dtype=float32),\n",
              " array([0.], dtype=float32)]"
            ]
          },
          "metadata": {},
          "execution_count": 22
        }
      ]
    },
    {
      "cell_type": "code",
      "source": [
        "#multiply the input with the layer to get output of convolution\n",
        "y = li(x)\n",
        "print(y.shape)"
      ],
      "metadata": {
        "colab": {
          "base_uri": "https://localhost:8080/"
        },
        "id": "NZtpYbzPNqS9",
        "outputId": "d92309bf-b437-463e-f3ef-a78855da2440"
      },
      "execution_count": 21,
      "outputs": [
        {
          "output_type": "stream",
          "name": "stdout",
          "text": [
            "(1, 3, 3, 1)\n"
          ]
        }
      ]
    },
    {
      "cell_type": "markdown",
      "source": [
        "Pooling - Average and Max"
      ],
      "metadata": {
        "id": "nrz6ZLskTCLp"
      }
    },
    {
      "cell_type": "code",
      "source": [
        "#Average Pooling\n",
        "avg_pool = layers.AveragePooling2D(\n",
        "    pool_size=(2,2),      # kernel\n",
        "    strides=(2,2),        # move 2 pixels at a time\n",
        "    padding=\"same\"       # will not lose dimensions\n",
        "    )"
      ],
      "metadata": {
        "id": "lTjyveU_O7HK"
      },
      "execution_count": 29,
      "outputs": []
    },
    {
      "cell_type": "code",
      "source": [
        "avg_pool(y)  # apply average pooling on the convolution layer output"
      ],
      "metadata": {
        "colab": {
          "base_uri": "https://localhost:8080/"
        },
        "id": "eYODErebSFHA",
        "outputId": "16196efc-f203-4b90-ddd0-e3046e294e3f"
      },
      "execution_count": 30,
      "outputs": [
        {
          "output_type": "execute_result",
          "data": {
            "text/plain": [
              "<tf.Tensor: shape=(1, 2, 2, 1), dtype=float32, numpy=\n",
              "array([[[[-0.51941484],\n",
              "         [-0.24437526]],\n",
              "\n",
              "        [[-0.1331218 ],\n",
              "         [-0.05721039]]]], dtype=float32)>"
            ]
          },
          "metadata": {},
          "execution_count": 30
        }
      ]
    },
    {
      "cell_type": "code",
      "source": [
        "# Max Pooling\n",
        "max_pool = layers.MaxPooling2D(\n",
        "    pool_size=(2,2),\n",
        "    strides=(2,2),\n",
        "    padding=\"same\"\n",
        ")"
      ],
      "metadata": {
        "id": "VAzCXqU7SH4B"
      },
      "execution_count": 31,
      "outputs": []
    },
    {
      "cell_type": "code",
      "source": [
        "#apply max pooling on the output of convolution layer\n",
        "max_pool(y)"
      ],
      "metadata": {
        "colab": {
          "base_uri": "https://localhost:8080/"
        },
        "id": "PvseQW7ASYa5",
        "outputId": "d4fbe75a-99ca-4b0a-f1f2-b990ffb694d2"
      },
      "execution_count": 32,
      "outputs": [
        {
          "output_type": "execute_result",
          "data": {
            "text/plain": [
              "<tf.Tensor: shape=(1, 2, 2, 1), dtype=float32, numpy=\n",
              "array([[[[ 0.1239616 ],\n",
              "         [ 0.13285442]],\n",
              "\n",
              "        [[ 0.06840169],\n",
              "         [-0.05721039]]]], dtype=float32)>"
            ]
          },
          "metadata": {},
          "execution_count": 32
        }
      ]
    },
    {
      "cell_type": "markdown",
      "source": [
        "Activation on Convolutional Operation"
      ],
      "metadata": {
        "id": "7NpUXuWDTGH7"
      }
    },
    {
      "cell_type": "code",
      "source": [
        "input_image=(1,5,5,1)"
      ],
      "metadata": {
        "id": "7-tRPdbASd7H"
      },
      "execution_count": 33,
      "outputs": []
    },
    {
      "cell_type": "code",
      "source": [
        "x=tf.random.normal(input_image)"
      ],
      "metadata": {
        "id": "kQ9NMxh5g3Gz"
      },
      "execution_count": 34,
      "outputs": []
    },
    {
      "cell_type": "code",
      "source": [
        "l1=layers.Conv2D(\n",
        "    filters=1,\n",
        "    kernel_size=(3,3),\n",
        "    padding=\"same\",\n",
        "    input_shape=input_image[1:],\n",
        "    activation=\"relu\"\n",
        ")"
      ],
      "metadata": {
        "id": "i-bYVFXwg6QA"
      },
      "execution_count": 35,
      "outputs": []
    },
    {
      "cell_type": "code",
      "source": [
        "y=l1(x)"
      ],
      "metadata": {
        "id": "2AeuabDxhNQr"
      },
      "execution_count": 36,
      "outputs": []
    },
    {
      "cell_type": "code",
      "source": [
        "y"
      ],
      "metadata": {
        "colab": {
          "base_uri": "https://localhost:8080/"
        },
        "id": "SJlO6D7hhOrQ",
        "outputId": "43705409-0d92-483d-904e-ae7a5a6d857c"
      },
      "execution_count": 37,
      "outputs": [
        {
          "output_type": "execute_result",
          "data": {
            "text/plain": [
              "<tf.Tensor: shape=(1, 5, 5, 1), dtype=float32, numpy=\n",
              "array([[[[0.        ],\n",
              "         [0.19951992],\n",
              "         [1.4381114 ],\n",
              "         [2.3894255 ],\n",
              "         [0.45781207]],\n",
              "\n",
              "        [[0.        ],\n",
              "         [0.        ],\n",
              "         [0.        ],\n",
              "         [0.        ],\n",
              "         [1.8112683 ]],\n",
              "\n",
              "        [[0.        ],\n",
              "         [0.23227671],\n",
              "         [0.29180124],\n",
              "         [0.        ],\n",
              "         [0.        ]],\n",
              "\n",
              "        [[0.        ],\n",
              "         [0.        ],\n",
              "         [0.58079875],\n",
              "         [0.33310974],\n",
              "         [0.59382284]],\n",
              "\n",
              "        [[0.        ],\n",
              "         [0.20345339],\n",
              "         [0.81077987],\n",
              "         [0.03048132],\n",
              "         [0.        ]]]], dtype=float32)>"
            ]
          },
          "metadata": {},
          "execution_count": 37
        }
      ]
    },
    {
      "cell_type": "code",
      "source": [
        "k"
      ],
      "metadata": {
        "id": "MsaZ69YchPlS"
      },
      "execution_count": null,
      "outputs": []
    }
  ]
}